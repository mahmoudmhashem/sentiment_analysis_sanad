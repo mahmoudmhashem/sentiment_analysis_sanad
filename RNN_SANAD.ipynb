{
 "cells": [
  {
   "cell_type": "markdown",
   "id": "6850fb9d",
   "metadata": {},
   "source": [
    "# BI-GRU"
   ]
  },
  {
   "cell_type": "code",
   "execution_count": 1,
   "id": "22aeb190",
   "metadata": {},
   "outputs": [],
   "source": [
    "import os\n",
    "import pandas as pd\n",
    "import numpy as np\n",
    "import gensim\n",
    "from sklearn.preprocessing import LabelEncoder\n",
    "from sklearn.svm import SVC\n",
    "from sklearn.metrics import accuracy_score\n",
    "from tensorflow import keras\n",
    "from winsound import Beep\n",
    "import matplotlib.pyplot as plt\n",
    "from winsound import Beep\n",
    "import matplotlib.pyplot as plt\n",
    "from scipy.stats import mode"
   ]
  },
  {
   "cell_type": "code",
   "execution_count": 2,
   "id": "6e4ad828",
   "metadata": {},
   "outputs": [],
   "source": [
    "# def read_data_from_dir(data_dir):\n",
    "#     x_data = []\n",
    "#     y_data = []\n",
    "#     for class_dir in os.listdir(data_dir):\n",
    "#         class_dir_pth = os.path.join(data_dir, class_dir)\n",
    "#         print(f\"working on {class_dir} ...\")\n",
    "#         n_files = len(os.listdir(class_dir_pth))\n",
    "#         for i, document in enumerate(os.listdir(class_dir_pth)):\n",
    "#             document_pth = os.path.join(class_dir_pth, document)\n",
    "#             with open(document_pth, encoding=\"UTF-8\") as f:\n",
    "#                 lines = f.readlines()\n",
    "#                 x_data.append(lines[1])\n",
    "#                 y_data.append(class_dir)\n",
    "#             print(f\"{int(100 * i / n_files)} %\", end='\\r')\n",
    "#     print(\"done!\")\n",
    "    \n",
    "#     return x_data, y_data"
   ]
  },
  {
   "cell_type": "code",
   "execution_count": 3,
   "id": "685fd87d",
   "metadata": {},
   "outputs": [],
   "source": [
    "# data_dir = \"E:\\Technical\\Electro pi\\SANAD_ Single-Label Arabic News Articles Dataset for Automatic Text Categorization\\SANAD_SUBSET\\khaleej\"\n",
    "# train_data_dir = os.path.join(data_dir, \"Train\")\n",
    "# test_data_dir = os.path.join(data_dir, \"Test\")\n",
    "\n",
    "# x_train, y_train = read_data_from_dir(train_data_dir)\n",
    "# x_test, y_test = read_data_from_dir(test_data_dir)"
   ]
  },
  {
   "cell_type": "code",
   "execution_count": 4,
   "id": "a2bd86e2",
   "metadata": {},
   "outputs": [],
   "source": [
    "# df_train = pd.DataFrame(x_train, columns=[\"text\"])\n",
    "# df_train[\"class\"] = y_train\n",
    "# df_train.to_csv(\"train_khaleej.csv\", index=False)\n",
    "\n",
    "# df_test = pd.DataFrame(x_test, columns=[\"text\"])\n",
    "# df_test[\"class\"] = y_test\n",
    "# df_test.to_csv(\"test_khaleej.csv\", index=False)"
   ]
  },
  {
   "cell_type": "code",
   "execution_count": 5,
   "id": "c27eb45d",
   "metadata": {},
   "outputs": [],
   "source": [
    "df_train = pd.read_csv(\"train_khaleej.csv\")\n",
    "df_test = pd.read_csv(\"test_khaleej.csv\")"
   ]
  },
  {
   "cell_type": "markdown",
   "id": "b8057923",
   "metadata": {},
   "source": [
    "Preprocessing"
   ]
  },
  {
   "cell_type": "code",
   "execution_count": 6,
   "id": "eb465812",
   "metadata": {},
   "outputs": [],
   "source": [
    "x_train_cleaned = map(gensim.utils.simple_preprocess, df_train.text)\n",
    "x_test_cleaned = map(gensim.utils.simple_preprocess, df_test.text)\n",
    "\n",
    "x_train_cleaned = np.array(list(x_train_cleaned), dtype=object)\n",
    "x_test_cleaned = np.array(list(x_test_cleaned), dtype=object)"
   ]
  },
  {
   "cell_type": "code",
   "execution_count": 7,
   "id": "600223f8",
   "metadata": {},
   "outputs": [],
   "source": [
    "wv_model = gensim.models.Word2Vec.load(\"word2vec-SANAD-khaleej-arabic-language.model\")"
   ]
  },
  {
   "cell_type": "code",
   "execution_count": 8,
   "id": "7541b7a0",
   "metadata": {},
   "outputs": [],
   "source": [
    "def text2vect(text):\n",
    "    batch_size = len(text)\n",
    "    text_vect = []\n",
    "    for i in range(batch_size):\n",
    "        n_steps = len(text[i])\n",
    "        sent_vect = np.empty((n_steps, 100))\n",
    "        for j, word in enumerate(text[i]):\n",
    "            try:\n",
    "                sent_vect[j,:] = wv_model.wv[word].astype(\"float32\")\n",
    "            except KeyError:\n",
    "                sent_vect[j,:] = np.zeros(100)\n",
    "        text_vect.append(sent_vect)\n",
    "    return text_vect"
   ]
  },
  {
   "cell_type": "code",
   "execution_count": 9,
   "id": "87f663bb",
   "metadata": {},
   "outputs": [],
   "source": [
    "x_train_cleaned_vec = text2vect(x_train_cleaned)\n",
    "x_test_cleaned_vec = text2vect(x_test_cleaned)"
   ]
  },
  {
   "cell_type": "code",
   "execution_count": 11,
   "id": "f3dfaf5b",
   "metadata": {},
   "outputs": [],
   "source": [
    "x_train_cleaned_vec_pad = keras.preprocessing.sequence.pad_sequences(x_train_cleaned_vec, 350)\n",
    "x_test_cleaned_vec_pad = keras.preprocessing.sequence.pad_sequences(x_test_cleaned_vec, 350)"
   ]
  },
  {
   "cell_type": "code",
   "execution_count": 12,
   "id": "d135a73a",
   "metadata": {},
   "outputs": [
    {
     "data": {
      "text/plain": [
       "(40950, 350, 100)"
      ]
     },
     "execution_count": 12,
     "metadata": {},
     "output_type": "execute_result"
    }
   ],
   "source": [
    "x_train_cleaned_vec_pad.shape"
   ]
  },
  {
   "cell_type": "code",
   "execution_count": 13,
   "id": "5e2e0f73",
   "metadata": {},
   "outputs": [],
   "source": [
    "encoder = LabelEncoder()\n",
    "y_train = encoder.fit_transform(df_train['class'])\n",
    "y_test = encoder.transform(df_test['class'])"
   ]
  },
  {
   "cell_type": "code",
   "execution_count": 15,
   "id": "cba9d2f9",
   "metadata": {},
   "outputs": [],
   "source": [
    "idx = np.arange(40950)\n",
    "np.random.shuffle(idx)\n",
    "\n",
    "x_train = x_train_cleaned_vec_pad[idx]\n",
    "y_train = y_train[idx]\n",
    "\n",
    "x_val, y_val = x_train[:5000], y_train[:5000]\n",
    "x_train, y_train = x_train[5000:], y_train[5000:]"
   ]
  },
  {
   "cell_type": "markdown",
   "id": "679edb2b",
   "metadata": {},
   "source": [
    "# Training"
   ]
  },
  {
   "cell_type": "code",
   "execution_count": 27,
   "id": "5136315d",
   "metadata": {},
   "outputs": [],
   "source": [
    "class CustomEarlyStopping(keras.callbacks.Callback):\n",
    "    def __init__(self, patience=0):\n",
    "        super(CustomEarlyStopping, self).__init__()\n",
    "        self.patience = patience\n",
    "#         self.restore_best_weights = restore_best_weights\n",
    "#         self.mode = mode\n",
    "        self.best_weights = None\n",
    "\n",
    "    def on_train_begin(self, logs=None):\n",
    "        # The number of epoch it has waited when loss is no longer minimum.\n",
    "        self.wait = 0\n",
    "        # The epoch the training stops at.\n",
    "        self.stopped_epoch = 0\n",
    "        # Initialize the best as infinity.\n",
    "        self.best = 0\n",
    "\n",
    "    def on_epoch_end(self, epoch, logs=None):\n",
    "        diff = logs[\"accuracy\"] - logs[\"val_accuracy\"]\n",
    "        current = logs[\"val_accuracy\"]\n",
    "        if diff <= 0.015:\n",
    "            self.wait = 0\n",
    "            if np.greater(current, self.best):\n",
    "                self.best = current\n",
    "                self.best_weights = self.model.get_weights() # Record the best weights if current results is better (more).\n",
    "        else:\n",
    "            self.wait += 1\n",
    "            if self.wait >= self.patience:\n",
    "                self.stopped_epoch = epoch\n",
    "                self.model.stop_training = True\n",
    "#                 print(\"Restoring model weights from the end of the best epoch.\")\n",
    "                self.model.set_weights(self.best_weights)\n",
    "\n",
    "    def on_train_end(self, logs=None):\n",
    "        if self.stopped_epoch > 0:\n",
    "            print(\"Epoch %05d: custom early stopping\" % (self.stopped_epoch + 1))\n",
    "    "
   ]
  },
  {
   "cell_type": "markdown",
   "id": "7935e179",
   "metadata": {},
   "source": [
    "# GRU"
   ]
  },
  {
   "cell_type": "code",
   "execution_count": 28,
   "id": "361987bb",
   "metadata": {},
   "outputs": [],
   "source": [
    "GRU = keras.models.Sequential([\n",
    "    keras.layers.Dropout(0.2, input_shape= [None, 100]),\n",
    "    keras.layers.GRU(100),\n",
    "    keras.layers.Dropout(0.2),\n",
    "    keras.layers.Dense(7, activation= \"softmax\")\n",
    "])"
   ]
  },
  {
   "cell_type": "code",
   "execution_count": 29,
   "id": "13fbf9d2",
   "metadata": {},
   "outputs": [],
   "source": [
    "patience = 3\n",
    "default_early_stopping_cb = keras.callbacks.EarlyStopping(restore_best_weights=True, patience=patience, monitor=\"val_accuracy\")\n",
    "custom_early_stopping_cb = CustomEarlyStopping(patience=patience)\n",
    "checkpoint_cb = keras.callbacks.ModelCheckpoint(\"sentiment_analysis_sanda_ModelCheckpoint.h5\", monitor=\"val_accuracy\", save_best_only=True, )"
   ]
  },
  {
   "cell_type": "code",
   "execution_count": 30,
   "id": "50cf144e",
   "metadata": {
    "scrolled": true
   },
   "outputs": [
    {
     "name": "stdout",
     "output_type": "stream",
     "text": [
      "Epoch 1/2000\n",
      "48/48 [==============================] - 211s 4s/step - loss: 1.3513 - accuracy: 0.5066 - val_loss: 0.8867 - val_accuracy: 0.6790\n",
      "Epoch 2/2000\n",
      "48/48 [==============================] - 200s 4s/step - loss: 0.6912 - accuracy: 0.7486 - val_loss: 0.4507 - val_accuracy: 0.8478\n",
      "Epoch 3/2000\n",
      "48/48 [==============================] - 212s 4s/step - loss: 0.3887 - accuracy: 0.8711 - val_loss: 0.2678 - val_accuracy: 0.9218\n",
      "Epoch 4/2000\n",
      "48/48 [==============================] - 219s 5s/step - loss: 0.2490 - accuracy: 0.9224 - val_loss: 0.2001 - val_accuracy: 0.9442\n",
      "Epoch 5/2000\n",
      "48/48 [==============================] - 220s 5s/step - loss: 0.1915 - accuracy: 0.9419 - val_loss: 0.1767 - val_accuracy: 0.9498\n",
      "Epoch 6/2000\n",
      "48/48 [==============================] - 221s 5s/step - loss: 0.1664 - accuracy: 0.9503 - val_loss: 0.1618 - val_accuracy: 0.9534\n",
      "Epoch 7/2000\n",
      "48/48 [==============================] - 217s 5s/step - loss: 0.1476 - accuracy: 0.9562 - val_loss: 0.1506 - val_accuracy: 0.9558\n",
      "Epoch 8/2000\n",
      "48/48 [==============================] - 236s 5s/step - loss: 0.1323 - accuracy: 0.9602 - val_loss: 0.1443 - val_accuracy: 0.9552\n",
      "Epoch 9/2000\n",
      "48/48 [==============================] - 223s 5s/step - loss: 0.1225 - accuracy: 0.9639 - val_loss: 0.1382 - val_accuracy: 0.9596\n",
      "Epoch 10/2000\n",
      "48/48 [==============================] - 229s 5s/step - loss: 0.1716 - accuracy: 0.9491 - val_loss: 0.1604 - val_accuracy: 0.9528\n",
      "Epoch 11/2000\n",
      "48/48 [==============================] - 237s 5s/step - loss: 0.1248 - accuracy: 0.9620 - val_loss: 0.1418 - val_accuracy: 0.9574\n",
      "Epoch 12/2000\n",
      "48/48 [==============================] - 233s 5s/step - loss: 0.1092 - accuracy: 0.9666 - val_loss: 0.1426 - val_accuracy: 0.9564\n",
      "Epoch 13/2000\n",
      "48/48 [==============================] - 232s 5s/step - loss: 0.1042 - accuracy: 0.9684 - val_loss: 0.1352 - val_accuracy: 0.9634\n",
      "Epoch 14/2000\n",
      "48/48 [==============================] - 241s 5s/step - loss: 0.0985 - accuracy: 0.9703 - val_loss: 0.1298 - val_accuracy: 0.9630\n",
      "Epoch 15/2000\n",
      "48/48 [==============================] - 235s 5s/step - loss: 0.0953 - accuracy: 0.9709 - val_loss: 0.1284 - val_accuracy: 0.9646\n",
      "Epoch 16/2000\n",
      "48/48 [==============================] - 238s 5s/step - loss: 0.0895 - accuracy: 0.9726 - val_loss: 0.1271 - val_accuracy: 0.9632\n",
      "Epoch 17/2000\n",
      "48/48 [==============================] - 241s 5s/step - loss: 0.0863 - accuracy: 0.9738 - val_loss: 0.1248 - val_accuracy: 0.9640\n",
      "Epoch 18/2000\n",
      "48/48 [==============================] - 250s 5s/step - loss: 0.0832 - accuracy: 0.9746 - val_loss: 0.1310 - val_accuracy: 0.9656\n",
      "Epoch 19/2000\n",
      "48/48 [==============================] - 245s 5s/step - loss: 0.0805 - accuracy: 0.9751 - val_loss: 0.1244 - val_accuracy: 0.9644\n",
      "Epoch 20/2000\n",
      "48/48 [==============================] - 248s 5s/step - loss: 0.0768 - accuracy: 0.9762 - val_loss: 0.1305 - val_accuracy: 0.9652\n",
      "Epoch 21/2000\n",
      "48/48 [==============================] - 248s 5s/step - loss: 0.0742 - accuracy: 0.9773 - val_loss: 0.1257 - val_accuracy: 0.9650\n",
      "Epoch 22/2000\n",
      "48/48 [==============================] - 247s 5s/step - loss: 0.0743 - accuracy: 0.9768 - val_loss: 0.1263 - val_accuracy: 0.9666\n",
      "Epoch 23/2000\n",
      "48/48 [==============================] - 247s 5s/step - loss: 0.0713 - accuracy: 0.9778 - val_loss: 0.1300 - val_accuracy: 0.9660\n",
      "Epoch 24/2000\n",
      "48/48 [==============================] - 242s 5s/step - loss: 0.0671 - accuracy: 0.9797 - val_loss: 0.1340 - val_accuracy: 0.9650\n",
      "Epoch 25/2000\n",
      "48/48 [==============================] - 238s 5s/step - loss: 0.0651 - accuracy: 0.9802 - val_loss: 0.1350 - val_accuracy: 0.9648\n",
      "Epoch 26/2000\n",
      "48/48 [==============================] - 233s 5s/step - loss: 0.0670 - accuracy: 0.9791 - val_loss: 0.1329 - val_accuracy: 0.9666\n",
      "Epoch 27/2000\n",
      "48/48 [==============================] - 241s 5s/step - loss: 0.0634 - accuracy: 0.9806 - val_loss: 0.1241 - val_accuracy: 0.9686\n",
      "Epoch 28/2000\n",
      "48/48 [==============================] - 237s 5s/step - loss: 0.0604 - accuracy: 0.9817 - val_loss: 0.1205 - val_accuracy: 0.9688\n",
      "Epoch 29/2000\n",
      "48/48 [==============================] - 243s 5s/step - loss: 0.0600 - accuracy: 0.9813 - val_loss: 0.1305 - val_accuracy: 0.9642\n",
      "Epoch 30/2000\n",
      "48/48 [==============================] - 240s 5s/step - loss: 0.0559 - accuracy: 0.9823 - val_loss: 0.1340 - val_accuracy: 0.9664\n",
      "Epoch 31/2000\n",
      "48/48 [==============================] - 241s 5s/step - loss: 0.0550 - accuracy: 0.9830 - val_loss: 0.1316 - val_accuracy: 0.9662\n",
      "Epoch 00031: custom early stopping\n"
     ]
    }
   ],
   "source": [
    "GRU.compile(optimizer=\"adam\", loss= keras.losses.sparse_categorical_crossentropy, metrics=\"accuracy\")\n",
    "history = GRU.fit(x_train, y_train, epochs=2000, validation_data= (x_val, y_val),callbacks=[checkpoint_cb, custom_early_stopping_cb], workers=8, use_multiprocessing=True, batch_size= 750)\n",
    "Beep(2500, 1000)"
   ]
  },
  {
   "cell_type": "code",
   "execution_count": 31,
   "id": "dbdc4cba",
   "metadata": {},
   "outputs": [
    {
     "data": {
      "image/png": "[encoded data removed]",
      "text/plain": [
       "<Figure size 720x432 with 1 Axes>"
      ]
     },
     "metadata": {
      "needs_background": "light"
     },
     "output_type": "display_data"
    }
   ],
   "source": [
    "model_history = pd.DataFrame(history.history)\n",
    "model_history.plot(figsize=(10,6))\n",
    "plt.grid(True)\n",
    "plt.gca().set_ylim(0, 1)\n",
    "plt.show();"
   ]
  },
  {
   "cell_type": "code",
   "execution_count": 32,
   "id": "6acb0998",
   "metadata": {},
   "outputs": [
    {
     "name": "stdout",
     "output_type": "stream",
     "text": [
      "157/157 [==============================] - 12s 76ms/step - loss: 0.1205 - accuracy: 0.9688\n"
     ]
    },
    {
     "data": {
      "text/plain": [
       "[0.12053944170475006, 0.9688000082969666]"
      ]
     },
     "execution_count": 32,
     "metadata": {},
     "output_type": "execute_result"
    }
   ],
   "source": [
    "GRU.evaluate(x_val, y_val)"
   ]
  },
  {
   "cell_type": "code",
   "execution_count": 33,
   "id": "90735da8",
   "metadata": {},
   "outputs": [
    {
     "name": "stdout",
     "output_type": "stream",
     "text": [
      "1124/1124 [==============================] - 120s 107ms/step - loss: 0.0396 - accuracy: 0.9884\n"
     ]
    },
    {
     "data": {
      "text/plain": [
       "[0.03960761800408363, 0.9883727431297302]"
      ]
     },
     "execution_count": 33,
     "metadata": {},
     "output_type": "execute_result"
    }
   ],
   "source": [
    "GRU.evaluate(x_train, y_train)"
   ]
  },
  {
   "cell_type": "code",
   "execution_count": 34,
   "id": "38942ec3",
   "metadata": {},
   "outputs": [
    {
     "data": {
      "text/plain": [
       "0.9590136408805847"
      ]
     },
     "execution_count": 34,
     "metadata": {},
     "output_type": "execute_result"
    }
   ],
   "source": [
    "0.9688000082969666 - (0.9883727431297302 - 0.9688000082969666) / 2 # the minimum expected val_test"
   ]
  },
  {
   "cell_type": "code",
   "execution_count": 37,
   "id": "e96553f7",
   "metadata": {},
   "outputs": [],
   "source": [
    "GRU.save(\"sentiment_analysis_sanda_GRU_Model.h5\")"
   ]
  },
  {
   "cell_type": "code",
   "execution_count": null,
   "id": "0f72af6c",
   "metadata": {},
   "outputs": [],
   "source": []
  },
  {
   "cell_type": "code",
   "execution_count": 38,
   "id": "40a55fe9",
   "metadata": {},
   "outputs": [
    {
     "name": "stdout",
     "output_type": "stream",
     "text": [
      "143/143 [==============================] - 11s 76ms/step - loss: 0.1127 - accuracy: 0.9666\n"
     ]
    },
    {
     "data": {
      "text/plain": [
       "[0.112673819065094, 0.9665933847427368]"
      ]
     },
     "execution_count": 38,
     "metadata": {},
     "output_type": "execute_result"
    }
   ],
   "source": [
    "GRU.evaluate(x_test_cleaned_vec_pad, y_test) # the minimum expected val_test"
   ]
  },
  {
   "cell_type": "code",
   "execution_count": null,
   "id": "f72d8844",
   "metadata": {},
   "outputs": [],
   "source": []
  },
  {
   "cell_type": "markdown",
   "id": "004d0d59",
   "metadata": {},
   "source": [
    "# LSTM"
   ]
  },
  {
   "cell_type": "code",
   "execution_count": 39,
   "id": "5872e4e7",
   "metadata": {},
   "outputs": [],
   "source": [
    "LSTM = keras.models.Sequential([\n",
    "    keras.layers.Dropout(0.2, input_shape= [None, 100]),\n",
    "    keras.layers.LSTM(100),\n",
    "    keras.layers.Dropout(0.2),\n",
    "    keras.layers.Dense(7, activation= \"softmax\")\n",
    "])"
   ]
  },
  {
   "cell_type": "code",
   "execution_count": 44,
   "id": "892ec4c9",
   "metadata": {
    "scrolled": true
   },
   "outputs": [
    {
     "name": "stdout",
     "output_type": "stream",
     "text": [
      "Epoch 1/2000\n",
      "48/48 [==============================] - 301s 6s/step - loss: 0.2512 - accuracy: 0.9254 - val_loss: 0.2277 - val_accuracy: 0.9316\n",
      "Epoch 2/2000\n",
      "48/48 [==============================] - 382s 8s/step - loss: 0.2113 - accuracy: 0.9368 - val_loss: 0.2028 - val_accuracy: 0.9414\n",
      "Epoch 3/2000\n",
      "48/48 [==============================] - 389s 8s/step - loss: 0.1912 - accuracy: 0.9408 - val_loss: 0.1898 - val_accuracy: 0.9428\n",
      "Epoch 4/2000\n",
      "48/48 [==============================] - 348s 7s/step - loss: 0.1964 - accuracy: 0.9419 - val_loss: 0.2111 - val_accuracy: 0.9322\n",
      "Epoch 5/2000\n",
      "48/48 [==============================] - 348s 7s/step - loss: 0.1891 - accuracy: 0.9423 - val_loss: 0.1773 - val_accuracy: 0.9498\n",
      "Epoch 6/2000\n",
      "48/48 [==============================] - 348s 7s/step - loss: 0.1699 - accuracy: 0.9487 - val_loss: 0.1710 - val_accuracy: 0.9522\n",
      "Epoch 7/2000\n",
      "48/48 [==============================] - 345s 7s/step - loss: 0.1608 - accuracy: 0.9524 - val_loss: 0.1729 - val_accuracy: 0.9510\n",
      "Epoch 8/2000\n",
      "48/48 [==============================] - 346s 7s/step - loss: 0.1462 - accuracy: 0.9554 - val_loss: 0.1579 - val_accuracy: 0.9548\n",
      "Epoch 9/2000\n",
      "48/48 [==============================] - 350s 7s/step - loss: 0.1395 - accuracy: 0.9579 - val_loss: 0.1540 - val_accuracy: 0.9568\n",
      "Epoch 10/2000\n",
      "48/48 [==============================] - 346s 7s/step - loss: 0.1561 - accuracy: 0.9528 - val_loss: 0.1559 - val_accuracy: 0.9542\n",
      "Epoch 11/2000\n",
      "48/48 [==============================] - 351s 7s/step - loss: 0.1345 - accuracy: 0.9606 - val_loss: 0.1534 - val_accuracy: 0.9550\n",
      "Epoch 12/2000\n",
      "48/48 [==============================] - 347s 7s/step - loss: 0.1339 - accuracy: 0.9598 - val_loss: 0.1540 - val_accuracy: 0.9540\n",
      "Epoch 13/2000\n",
      "48/48 [==============================] - 350s 7s/step - loss: 0.1281 - accuracy: 0.9606 - val_loss: 0.1500 - val_accuracy: 0.9556\n",
      "Epoch 14/2000\n",
      "48/48 [==============================] - 351s 7s/step - loss: 0.1201 - accuracy: 0.9645 - val_loss: 0.1568 - val_accuracy: 0.9562\n",
      "Epoch 15/2000\n",
      "48/48 [==============================] - 350s 7s/step - loss: 0.1225 - accuracy: 0.9639 - val_loss: 0.1470 - val_accuracy: 0.9564\n",
      "Epoch 16/2000\n",
      "48/48 [==============================] - 358s 7s/step - loss: 0.1185 - accuracy: 0.9645 - val_loss: 0.1484 - val_accuracy: 0.9568\n",
      "Epoch 17/2000\n",
      "48/48 [==============================] - 360s 7s/step - loss: 0.1384 - accuracy: 0.9599 - val_loss: 0.1395 - val_accuracy: 0.9584\n",
      "Epoch 18/2000\n",
      " 2/48 [>.............................] - ETA: 6:06 - loss: 0.1096 - accuracy: 0.9693"
     ]
    },
    {
     "ename": "KeyboardInterrupt",
     "evalue": "",
     "output_type": "error",
     "traceback": [
      "\u001b[1;31m---------------------------------------------------------------------------\u001b[0m",
      "\u001b[1;31mKeyboardInterrupt\u001b[0m                         Traceback (most recent call last)",
      "\u001b[1;32m~\\AppData\\Local\\Temp\\ipykernel_15328\\348562866.py\u001b[0m in \u001b[0;36m<module>\u001b[1;34m\u001b[0m\n\u001b[0;32m      1\u001b[0m \u001b[0mLSTM\u001b[0m\u001b[1;33m.\u001b[0m\u001b[0mcompile\u001b[0m\u001b[1;33m(\u001b[0m\u001b[0moptimizer\u001b[0m\u001b[1;33m=\u001b[0m\u001b[1;34m\"adam\"\u001b[0m\u001b[1;33m,\u001b[0m \u001b[0mloss\u001b[0m\u001b[1;33m=\u001b[0m \u001b[0mkeras\u001b[0m\u001b[1;33m.\u001b[0m\u001b[0mlosses\u001b[0m\u001b[1;33m.\u001b[0m\u001b[0msparse_categorical_crossentropy\u001b[0m\u001b[1;33m,\u001b[0m \u001b[0mmetrics\u001b[0m\u001b[1;33m=\u001b[0m\u001b[1;34m\"accuracy\"\u001b[0m\u001b[1;33m)\u001b[0m\u001b[1;33m\u001b[0m\u001b[1;33m\u001b[0m\u001b[0m\n\u001b[1;32m----> 2\u001b[1;33m \u001b[0mhistory\u001b[0m \u001b[1;33m=\u001b[0m \u001b[0mLSTM\u001b[0m\u001b[1;33m.\u001b[0m\u001b[0mfit\u001b[0m\u001b[1;33m(\u001b[0m\u001b[0mx_train\u001b[0m\u001b[1;33m,\u001b[0m \u001b[0my_train\u001b[0m\u001b[1;33m,\u001b[0m \u001b[0mepochs\u001b[0m\u001b[1;33m=\u001b[0m\u001b[1;36m2000\u001b[0m\u001b[1;33m,\u001b[0m \u001b[0mvalidation_data\u001b[0m\u001b[1;33m=\u001b[0m \u001b[1;33m(\u001b[0m\u001b[0mx_val\u001b[0m\u001b[1;33m,\u001b[0m \u001b[0my_val\u001b[0m\u001b[1;33m)\u001b[0m\u001b[1;33m,\u001b[0m\u001b[0mcallbacks\u001b[0m\u001b[1;33m=\u001b[0m\u001b[1;33m[\u001b[0m\u001b[0mcheckpoint_cb\u001b[0m\u001b[1;33m,\u001b[0m \u001b[0mcustom_early_stopping_cb\u001b[0m\u001b[1;33m]\u001b[0m\u001b[1;33m,\u001b[0m \u001b[0mworkers\u001b[0m\u001b[1;33m=\u001b[0m\u001b[1;36m8\u001b[0m\u001b[1;33m,\u001b[0m \u001b[0muse_multiprocessing\u001b[0m\u001b[1;33m=\u001b[0m\u001b[1;32mTrue\u001b[0m\u001b[1;33m,\u001b[0m \u001b[0mbatch_size\u001b[0m\u001b[1;33m=\u001b[0m \u001b[1;36m750\u001b[0m\u001b[1;33m)\u001b[0m\u001b[1;33m\u001b[0m\u001b[1;33m\u001b[0m\u001b[0m\n\u001b[0m\u001b[0;32m      3\u001b[0m \u001b[0mBeep\u001b[0m\u001b[1;33m(\u001b[0m\u001b[1;36m2500\u001b[0m\u001b[1;33m,\u001b[0m \u001b[1;36m1000\u001b[0m\u001b[1;33m)\u001b[0m\u001b[1;33m\u001b[0m\u001b[1;33m\u001b[0m\u001b[0m\n",
      "\u001b[1;32m~\\anaconda3\\envs\\fwd\\lib\\site-packages\\keras\\utils\\traceback_utils.py\u001b[0m in \u001b[0;36merror_handler\u001b[1;34m(*args, **kwargs)\u001b[0m\n\u001b[0;32m     62\u001b[0m     \u001b[0mfiltered_tb\u001b[0m \u001b[1;33m=\u001b[0m \u001b[1;32mNone\u001b[0m\u001b[1;33m\u001b[0m\u001b[1;33m\u001b[0m\u001b[0m\n\u001b[0;32m     63\u001b[0m     \u001b[1;32mtry\u001b[0m\u001b[1;33m:\u001b[0m\u001b[1;33m\u001b[0m\u001b[1;33m\u001b[0m\u001b[0m\n\u001b[1;32m---> 64\u001b[1;33m       \u001b[1;32mreturn\u001b[0m \u001b[0mfn\u001b[0m\u001b[1;33m(\u001b[0m\u001b[1;33m*\u001b[0m\u001b[0margs\u001b[0m\u001b[1;33m,\u001b[0m \u001b[1;33m**\u001b[0m\u001b[0mkwargs\u001b[0m\u001b[1;33m)\u001b[0m\u001b[1;33m\u001b[0m\u001b[1;33m\u001b[0m\u001b[0m\n\u001b[0m\u001b[0;32m     65\u001b[0m     \u001b[1;32mexcept\u001b[0m \u001b[0mException\u001b[0m \u001b[1;32mas\u001b[0m \u001b[0me\u001b[0m\u001b[1;33m:\u001b[0m  \u001b[1;31m# pylint: disable=broad-except\u001b[0m\u001b[1;33m\u001b[0m\u001b[1;33m\u001b[0m\u001b[0m\n\u001b[0;32m     66\u001b[0m       \u001b[0mfiltered_tb\u001b[0m \u001b[1;33m=\u001b[0m \u001b[0m_process_traceback_frames\u001b[0m\u001b[1;33m(\u001b[0m\u001b[0me\u001b[0m\u001b[1;33m.\u001b[0m\u001b[0m__traceback__\u001b[0m\u001b[1;33m)\u001b[0m\u001b[1;33m\u001b[0m\u001b[1;33m\u001b[0m\u001b[0m\n",
      "\u001b[1;32m~\\anaconda3\\envs\\fwd\\lib\\site-packages\\keras\\engine\\training.py\u001b[0m in \u001b[0;36mfit\u001b[1;34m(self, x, y, batch_size, epochs, verbose, callbacks, validation_split, validation_data, shuffle, class_weight, sample_weight, initial_epoch, steps_per_epoch, validation_steps, validation_batch_size, validation_freq, max_queue_size, workers, use_multiprocessing)\u001b[0m\n\u001b[0;32m   1214\u001b[0m                 _r=1):\n\u001b[0;32m   1215\u001b[0m               \u001b[0mcallbacks\u001b[0m\u001b[1;33m.\u001b[0m\u001b[0mon_train_batch_begin\u001b[0m\u001b[1;33m(\u001b[0m\u001b[0mstep\u001b[0m\u001b[1;33m)\u001b[0m\u001b[1;33m\u001b[0m\u001b[1;33m\u001b[0m\u001b[0m\n\u001b[1;32m-> 1216\u001b[1;33m               \u001b[0mtmp_logs\u001b[0m \u001b[1;33m=\u001b[0m \u001b[0mself\u001b[0m\u001b[1;33m.\u001b[0m\u001b[0mtrain_function\u001b[0m\u001b[1;33m(\u001b[0m\u001b[0miterator\u001b[0m\u001b[1;33m)\u001b[0m\u001b[1;33m\u001b[0m\u001b[1;33m\u001b[0m\u001b[0m\n\u001b[0m\u001b[0;32m   1217\u001b[0m               \u001b[1;32mif\u001b[0m \u001b[0mdata_handler\u001b[0m\u001b[1;33m.\u001b[0m\u001b[0mshould_sync\u001b[0m\u001b[1;33m:\u001b[0m\u001b[1;33m\u001b[0m\u001b[1;33m\u001b[0m\u001b[0m\n\u001b[0;32m   1218\u001b[0m                 \u001b[0mcontext\u001b[0m\u001b[1;33m.\u001b[0m\u001b[0masync_wait\u001b[0m\u001b[1;33m(\u001b[0m\u001b[1;33m)\u001b[0m\u001b[1;33m\u001b[0m\u001b[1;33m\u001b[0m\u001b[0m\n",
      "\u001b[1;32m~\\anaconda3\\envs\\fwd\\lib\\site-packages\\tensorflow\\python\\util\\traceback_utils.py\u001b[0m in \u001b[0;36merror_handler\u001b[1;34m(*args, **kwargs)\u001b[0m\n\u001b[0;32m    148\u001b[0m     \u001b[0mfiltered_tb\u001b[0m \u001b[1;33m=\u001b[0m \u001b[1;32mNone\u001b[0m\u001b[1;33m\u001b[0m\u001b[1;33m\u001b[0m\u001b[0m\n\u001b[0;32m    149\u001b[0m     \u001b[1;32mtry\u001b[0m\u001b[1;33m:\u001b[0m\u001b[1;33m\u001b[0m\u001b[1;33m\u001b[0m\u001b[0m\n\u001b[1;32m--> 150\u001b[1;33m       \u001b[1;32mreturn\u001b[0m \u001b[0mfn\u001b[0m\u001b[1;33m(\u001b[0m\u001b[1;33m*\u001b[0m\u001b[0margs\u001b[0m\u001b[1;33m,\u001b[0m \u001b[1;33m**\u001b[0m\u001b[0mkwargs\u001b[0m\u001b[1;33m)\u001b[0m\u001b[1;33m\u001b[0m\u001b[1;33m\u001b[0m\u001b[0m\n\u001b[0m\u001b[0;32m    151\u001b[0m     \u001b[1;32mexcept\u001b[0m \u001b[0mException\u001b[0m \u001b[1;32mas\u001b[0m \u001b[0me\u001b[0m\u001b[1;33m:\u001b[0m\u001b[1;33m\u001b[0m\u001b[1;33m\u001b[0m\u001b[0m\n\u001b[0;32m    152\u001b[0m       \u001b[0mfiltered_tb\u001b[0m \u001b[1;33m=\u001b[0m \u001b[0m_process_traceback_frames\u001b[0m\u001b[1;33m(\u001b[0m\u001b[0me\u001b[0m\u001b[1;33m.\u001b[0m\u001b[0m__traceback__\u001b[0m\u001b[1;33m)\u001b[0m\u001b[1;33m\u001b[0m\u001b[1;33m\u001b[0m\u001b[0m\n",
      "\u001b[1;32m~\\anaconda3\\envs\\fwd\\lib\\site-packages\\tensorflow\\python\\eager\\def_function.py\u001b[0m in \u001b[0;36m__call__\u001b[1;34m(self, *args, **kwds)\u001b[0m\n\u001b[0;32m    908\u001b[0m \u001b[1;33m\u001b[0m\u001b[0m\n\u001b[0;32m    909\u001b[0m       \u001b[1;32mwith\u001b[0m \u001b[0mOptionalXlaContext\u001b[0m\u001b[1;33m(\u001b[0m\u001b[0mself\u001b[0m\u001b[1;33m.\u001b[0m\u001b[0m_jit_compile\u001b[0m\u001b[1;33m)\u001b[0m\u001b[1;33m:\u001b[0m\u001b[1;33m\u001b[0m\u001b[1;33m\u001b[0m\u001b[0m\n\u001b[1;32m--> 910\u001b[1;33m         \u001b[0mresult\u001b[0m \u001b[1;33m=\u001b[0m \u001b[0mself\u001b[0m\u001b[1;33m.\u001b[0m\u001b[0m_call\u001b[0m\u001b[1;33m(\u001b[0m\u001b[1;33m*\u001b[0m\u001b[0margs\u001b[0m\u001b[1;33m,\u001b[0m \u001b[1;33m**\u001b[0m\u001b[0mkwds\u001b[0m\u001b[1;33m)\u001b[0m\u001b[1;33m\u001b[0m\u001b[1;33m\u001b[0m\u001b[0m\n\u001b[0m\u001b[0;32m    911\u001b[0m \u001b[1;33m\u001b[0m\u001b[0m\n\u001b[0;32m    912\u001b[0m       \u001b[0mnew_tracing_count\u001b[0m \u001b[1;33m=\u001b[0m \u001b[0mself\u001b[0m\u001b[1;33m.\u001b[0m\u001b[0mexperimental_get_tracing_count\u001b[0m\u001b[1;33m(\u001b[0m\u001b[1;33m)\u001b[0m\u001b[1;33m\u001b[0m\u001b[1;33m\u001b[0m\u001b[0m\n",
      "\u001b[1;32m~\\anaconda3\\envs\\fwd\\lib\\site-packages\\tensorflow\\python\\eager\\def_function.py\u001b[0m in \u001b[0;36m_call\u001b[1;34m(self, *args, **kwds)\u001b[0m\n\u001b[0;32m    940\u001b[0m       \u001b[1;31m# In this case we have created variables on the first call, so we run the\u001b[0m\u001b[1;33m\u001b[0m\u001b[1;33m\u001b[0m\u001b[1;33m\u001b[0m\u001b[0m\n\u001b[0;32m    941\u001b[0m       \u001b[1;31m# defunned version which is guaranteed to never create variables.\u001b[0m\u001b[1;33m\u001b[0m\u001b[1;33m\u001b[0m\u001b[1;33m\u001b[0m\u001b[0m\n\u001b[1;32m--> 942\u001b[1;33m       \u001b[1;32mreturn\u001b[0m \u001b[0mself\u001b[0m\u001b[1;33m.\u001b[0m\u001b[0m_stateless_fn\u001b[0m\u001b[1;33m(\u001b[0m\u001b[1;33m*\u001b[0m\u001b[0margs\u001b[0m\u001b[1;33m,\u001b[0m \u001b[1;33m**\u001b[0m\u001b[0mkwds\u001b[0m\u001b[1;33m)\u001b[0m  \u001b[1;31m# pylint: disable=not-callable\u001b[0m\u001b[1;33m\u001b[0m\u001b[1;33m\u001b[0m\u001b[0m\n\u001b[0m\u001b[0;32m    943\u001b[0m     \u001b[1;32melif\u001b[0m \u001b[0mself\u001b[0m\u001b[1;33m.\u001b[0m\u001b[0m_stateful_fn\u001b[0m \u001b[1;32mis\u001b[0m \u001b[1;32mnot\u001b[0m \u001b[1;32mNone\u001b[0m\u001b[1;33m:\u001b[0m\u001b[1;33m\u001b[0m\u001b[1;33m\u001b[0m\u001b[0m\n\u001b[0;32m    944\u001b[0m       \u001b[1;31m# Release the lock early so that multiple threads can perform the call\u001b[0m\u001b[1;33m\u001b[0m\u001b[1;33m\u001b[0m\u001b[1;33m\u001b[0m\u001b[0m\n",
      "\u001b[1;32m~\\anaconda3\\envs\\fwd\\lib\\site-packages\\tensorflow\\python\\eager\\function.py\u001b[0m in \u001b[0;36m__call__\u001b[1;34m(self, *args, **kwargs)\u001b[0m\n\u001b[0;32m   3128\u001b[0m       (graph_function,\n\u001b[0;32m   3129\u001b[0m        filtered_flat_args) = self._maybe_define_function(args, kwargs)\n\u001b[1;32m-> 3130\u001b[1;33m     return graph_function._call_flat(\n\u001b[0m\u001b[0;32m   3131\u001b[0m         filtered_flat_args, captured_inputs=graph_function.captured_inputs)  # pylint: disable=protected-access\n\u001b[0;32m   3132\u001b[0m \u001b[1;33m\u001b[0m\u001b[0m\n",
      "\u001b[1;32m~\\anaconda3\\envs\\fwd\\lib\\site-packages\\tensorflow\\python\\eager\\function.py\u001b[0m in \u001b[0;36m_call_flat\u001b[1;34m(self, args, captured_inputs, cancellation_manager)\u001b[0m\n\u001b[0;32m   1957\u001b[0m         and executing_eagerly):\n\u001b[0;32m   1958\u001b[0m       \u001b[1;31m# No tape is watching; skip to running the function.\u001b[0m\u001b[1;33m\u001b[0m\u001b[1;33m\u001b[0m\u001b[1;33m\u001b[0m\u001b[0m\n\u001b[1;32m-> 1959\u001b[1;33m       return self._build_call_outputs(self._inference_function.call(\n\u001b[0m\u001b[0;32m   1960\u001b[0m           ctx, args, cancellation_manager=cancellation_manager))\n\u001b[0;32m   1961\u001b[0m     forward_backward = self._select_forward_and_backward_functions(\n",
      "\u001b[1;32m~\\anaconda3\\envs\\fwd\\lib\\site-packages\\tensorflow\\python\\eager\\function.py\u001b[0m in \u001b[0;36mcall\u001b[1;34m(self, ctx, args, cancellation_manager)\u001b[0m\n\u001b[0;32m    596\u001b[0m       \u001b[1;32mwith\u001b[0m \u001b[0m_InterpolateFunctionError\u001b[0m\u001b[1;33m(\u001b[0m\u001b[0mself\u001b[0m\u001b[1;33m)\u001b[0m\u001b[1;33m:\u001b[0m\u001b[1;33m\u001b[0m\u001b[1;33m\u001b[0m\u001b[0m\n\u001b[0;32m    597\u001b[0m         \u001b[1;32mif\u001b[0m \u001b[0mcancellation_manager\u001b[0m \u001b[1;32mis\u001b[0m \u001b[1;32mNone\u001b[0m\u001b[1;33m:\u001b[0m\u001b[1;33m\u001b[0m\u001b[1;33m\u001b[0m\u001b[0m\n\u001b[1;32m--> 598\u001b[1;33m           outputs = execute.execute(\n\u001b[0m\u001b[0;32m    599\u001b[0m               \u001b[0mstr\u001b[0m\u001b[1;33m(\u001b[0m\u001b[0mself\u001b[0m\u001b[1;33m.\u001b[0m\u001b[0msignature\u001b[0m\u001b[1;33m.\u001b[0m\u001b[0mname\u001b[0m\u001b[1;33m)\u001b[0m\u001b[1;33m,\u001b[0m\u001b[1;33m\u001b[0m\u001b[1;33m\u001b[0m\u001b[0m\n\u001b[0;32m    600\u001b[0m               \u001b[0mnum_outputs\u001b[0m\u001b[1;33m=\u001b[0m\u001b[0mself\u001b[0m\u001b[1;33m.\u001b[0m\u001b[0m_num_outputs\u001b[0m\u001b[1;33m,\u001b[0m\u001b[1;33m\u001b[0m\u001b[1;33m\u001b[0m\u001b[0m\n",
      "\u001b[1;32m~\\anaconda3\\envs\\fwd\\lib\\site-packages\\tensorflow\\python\\eager\\execute.py\u001b[0m in \u001b[0;36mquick_execute\u001b[1;34m(op_name, num_outputs, inputs, attrs, ctx, name)\u001b[0m\n\u001b[0;32m     56\u001b[0m   \u001b[1;32mtry\u001b[0m\u001b[1;33m:\u001b[0m\u001b[1;33m\u001b[0m\u001b[1;33m\u001b[0m\u001b[0m\n\u001b[0;32m     57\u001b[0m     \u001b[0mctx\u001b[0m\u001b[1;33m.\u001b[0m\u001b[0mensure_initialized\u001b[0m\u001b[1;33m(\u001b[0m\u001b[1;33m)\u001b[0m\u001b[1;33m\u001b[0m\u001b[1;33m\u001b[0m\u001b[0m\n\u001b[1;32m---> 58\u001b[1;33m     tensors = pywrap_tfe.TFE_Py_Execute(ctx._handle, device_name, op_name,\n\u001b[0m\u001b[0;32m     59\u001b[0m                                         inputs, attrs, num_outputs)\n\u001b[0;32m     60\u001b[0m   \u001b[1;32mexcept\u001b[0m \u001b[0mcore\u001b[0m\u001b[1;33m.\u001b[0m\u001b[0m_NotOkStatusException\u001b[0m \u001b[1;32mas\u001b[0m \u001b[0me\u001b[0m\u001b[1;33m:\u001b[0m\u001b[1;33m\u001b[0m\u001b[1;33m\u001b[0m\u001b[0m\n",
      "\u001b[1;31mKeyboardInterrupt\u001b[0m: "
     ]
    }
   ],
   "source": [
    "LSTM.compile(optimizer=\"adam\", loss= keras.losses.sparse_categorical_crossentropy, metrics=\"accuracy\")\n",
    "history = LSTM.fit(x_train, y_train, epochs=2000, validation_data= (x_val, y_val),callbacks=[checkpoint_cb, custom_early_stopping_cb\n",
    "                                                                                            ], workers=8, use_multiprocessing=True, batch_size= 750)\n",
    "Beep(2500, 1000)"
   ]
  },
  {
   "cell_type": "code",
   "execution_count": 41,
   "id": "1fa01cb8",
   "metadata": {},
   "outputs": [
    {
     "data": {
      "image/png": "[encoded data removed]",
      "text/plain": [
       "<Figure size 720x432 with 1 Axes>"
      ]
     },
     "metadata": {
      "needs_background": "light"
     },
     "output_type": "display_data"
    }
   ],
   "source": [
    "model_history = pd.DataFrame(history.history)\n",
    "model_history.plot(figsize=(10,6))\n",
    "plt.grid(True)\n",
    "plt.gca().set_ylim(0, 1)\n",
    "plt.show();"
   ]
  },
  {
   "cell_type": "code",
   "execution_count": 45,
   "id": "7e883661",
   "metadata": {},
   "outputs": [
    {
     "name": "stdout",
     "output_type": "stream",
     "text": [
      "157/157 [==============================] - 28s 177ms/step - loss: 0.1398 - accuracy: 0.9596s - loss: 0 - ETA: 0s - loss: 0.1405 - accuracy: \n"
     ]
    },
    {
     "data": {
      "text/plain": [
       "[0.139816552400589, 0.9595999717712402]"
      ]
     },
     "execution_count": 45,
     "metadata": {},
     "output_type": "execute_result"
    }
   ],
   "source": [
    "LSTM.evaluate(x_val, y_val)"
   ]
  },
  {
   "cell_type": "code",
   "execution_count": 46,
   "id": "e9d894f7",
   "metadata": {},
   "outputs": [
    {
     "name": "stdout",
     "output_type": "stream",
     "text": [
      "1124/1124 [==============================] - 207s 184ms/step - loss: 0.1012 - accuracy: 0.9697\n"
     ]
    },
    {
     "data": {
      "text/plain": [
       "[0.10119414329528809, 0.9697357416152954]"
      ]
     },
     "execution_count": 46,
     "metadata": {},
     "output_type": "execute_result"
    }
   ],
   "source": [
    "LSTM.evaluate(x_train, y_train)"
   ]
  },
  {
   "cell_type": "code",
   "execution_count": 47,
   "id": "5b2aca63",
   "metadata": {},
   "outputs": [
    {
     "data": {
      "text/plain": [
       "0.9545320868492126"
      ]
     },
     "execution_count": 47,
     "metadata": {},
     "output_type": "execute_result"
    }
   ],
   "source": [
    "0.9595999717712402 - (0.9697357416152954 - 0.9595999717712402) / 2"
   ]
  },
  {
   "cell_type": "code",
   "execution_count": 48,
   "id": "1b5eac90",
   "metadata": {},
   "outputs": [],
   "source": [
    "LSTM.save(\"sentiment_analysis_sanda_LSTM_Model.h5\")"
   ]
  },
  {
   "cell_type": "code",
   "execution_count": null,
   "id": "98b97259",
   "metadata": {},
   "outputs": [],
   "source": []
  },
  {
   "cell_type": "code",
   "execution_count": 49,
   "id": "645d1446",
   "metadata": {},
   "outputs": [
    {
     "name": "stdout",
     "output_type": "stream",
     "text": [
      "143/143 [==============================] - 17s 116ms/step - loss: 0.1369 - accuracy: 0.9593\n"
     ]
    },
    {
     "data": {
      "text/plain": [
       "[0.13691796362400055, 0.9593406319618225]"
      ]
     },
     "execution_count": 49,
     "metadata": {},
     "output_type": "execute_result"
    }
   ],
   "source": [
    "LSTM.evaluate(x_test_cleaned_vec_pad, y_test)"
   ]
  },
  {
   "cell_type": "code",
   "execution_count": null,
   "id": "6bd508c4",
   "metadata": {},
   "outputs": [],
   "source": []
  },
  {
   "cell_type": "code",
   "execution_count": null,
   "id": "2ef197e4",
   "metadata": {},
   "outputs": [],
   "source": []
  },
  {
   "cell_type": "markdown",
   "id": "74890b1b",
   "metadata": {},
   "source": [
    "# BI-LSTM"
   ]
  },
  {
   "cell_type": "code",
   "execution_count": 50,
   "id": "b2b9eede",
   "metadata": {},
   "outputs": [],
   "source": [
    "BiLSTM = keras.models.Sequential([\n",
    "    keras.layers.Dropout(0.2, input_shape= [None, 100]),\n",
    "    keras.layers.Bidirectional(keras.layers.LSTM(100)),\n",
    "    keras.layers.Dropout(0.2),\n",
    "    keras.layers.Dense(7, activation= \"softmax\")\n",
    "])"
   ]
  },
  {
   "cell_type": "code",
   "execution_count": 51,
   "id": "bff4ef39",
   "metadata": {
    "scrolled": true
   },
   "outputs": [
    {
     "name": "stdout",
     "output_type": "stream",
     "text": [
      "Epoch 1/2000\n",
      "48/48 [==============================] - 766s 16s/step - loss: 1.0173 - accuracy: 0.6590 - val_loss: 0.4465 - val_accuracy: 0.8580\n",
      "Epoch 2/2000\n",
      "48/48 [==============================] - 855s 18s/step - loss: 0.3794 - accuracy: 0.8796 - val_loss: 0.2703 - val_accuracy: 0.9234\n",
      "Epoch 3/2000\n",
      "48/48 [==============================] - 873s 18s/step - loss: 0.2697 - accuracy: 0.9164 - val_loss: 0.2142 - val_accuracy: 0.9334\n",
      "Epoch 4/2000\n",
      "48/48 [==============================] - 896s 19s/step - loss: 0.2502 - accuracy: 0.9221 - val_loss: 0.2619 - val_accuracy: 0.9148\n",
      "Epoch 5/2000\n",
      "48/48 [==============================] - 915s 19s/step - loss: 0.2606 - accuracy: 0.9176 - val_loss: 0.3177 - val_accuracy: 0.8992\n",
      "Epoch 6/2000\n",
      "48/48 [==============================] - 924s 19s/step - loss: 0.2702 - accuracy: 0.9174 - val_loss: 0.2276 - val_accuracy: 0.9320\n",
      "Epoch 7/2000\n",
      "48/48 [==============================] - 934s 19s/step - loss: 0.2204 - accuracy: 0.9329 - val_loss: 0.2201 - val_accuracy: 0.9344\n",
      "Epoch 8/2000\n",
      "48/48 [==============================] - 929s 19s/step - loss: 0.1999 - accuracy: 0.9395 - val_loss: 0.1853 - val_accuracy: 0.9474\n",
      "Epoch 9/2000\n",
      "48/48 [==============================] - 937s 20s/step - loss: 0.1787 - accuracy: 0.9461 - val_loss: 0.1859 - val_accuracy: 0.9460\n",
      "Epoch 10/2000\n",
      "48/48 [==============================] - 930s 19s/step - loss: 0.1746 - accuracy: 0.9466 - val_loss: 0.1637 - val_accuracy: 0.9506\n",
      "Epoch 11/2000\n",
      "48/48 [==============================] - 932s 19s/step - loss: 0.1615 - accuracy: 0.9528 - val_loss: 0.1635 - val_accuracy: 0.9520\n",
      "Epoch 12/2000\n",
      "48/48 [==============================] - 933s 19s/step - loss: 0.1511 - accuracy: 0.9537 - val_loss: 0.1606 - val_accuracy: 0.9512\n",
      "Epoch 13/2000\n",
      "48/48 [==============================] - 968s 20s/step - loss: 0.1381 - accuracy: 0.9581 - val_loss: 0.1470 - val_accuracy: 0.9586\n",
      "Epoch 14/2000\n",
      "48/48 [==============================] - 983s 20s/step - loss: 0.1308 - accuracy: 0.9600 - val_loss: 0.1450 - val_accuracy: 0.9594\n",
      "Epoch 15/2000\n",
      "48/48 [==============================] - 928s 19s/step - loss: 0.1308 - accuracy: 0.9606 - val_loss: 0.1392 - val_accuracy: 0.9586\n",
      "Epoch 16/2000\n",
      "48/48 [==============================] - 931s 19s/step - loss: 0.1212 - accuracy: 0.9646 - val_loss: 0.1447 - val_accuracy: 0.9594\n",
      "Epoch 17/2000\n",
      "48/48 [==============================] - 931s 19s/step - loss: 0.1586 - accuracy: 0.9520 - val_loss: 0.1578 - val_accuracy: 0.9538\n",
      "Epoch 18/2000\n",
      "48/48 [==============================] - 938s 20s/step - loss: 0.1292 - accuracy: 0.9615 - val_loss: 0.1392 - val_accuracy: 0.9602\n",
      "Epoch 19/2000\n",
      "48/48 [==============================] - 1034s 22s/step - loss: 0.1155 - accuracy: 0.9656 - val_loss: 0.1355 - val_accuracy: 0.9614\n",
      "Epoch 20/2000\n",
      "48/48 [==============================] - 946s 20s/step - loss: 0.1071 - accuracy: 0.9676 - val_loss: 0.1377 - val_accuracy: 0.9592\n",
      "Epoch 21/2000\n",
      "48/48 [==============================] - 939s 20s/step - loss: 0.1038 - accuracy: 0.9678 - val_loss: 0.1282 - val_accuracy: 0.9646\n",
      "Epoch 22/2000\n",
      "48/48 [==============================] - 935s 19s/step - loss: 0.0951 - accuracy: 0.9711 - val_loss: 0.1299 - val_accuracy: 0.9642\n",
      "Epoch 23/2000\n",
      "48/48 [==============================] - 971s 20s/step - loss: 0.0967 - accuracy: 0.9704 - val_loss: 0.1288 - val_accuracy: 0.9638\n",
      "Epoch 24/2000\n",
      "48/48 [==============================] - 1045s 22s/step - loss: 0.1176 - accuracy: 0.9642 - val_loss: 0.1579 - val_accuracy: 0.9558\n",
      "Epoch 25/2000\n",
      " 9/48 [====>.........................] - ETA: 12:26 - loss: 0.1100 - accuracy: 0.9681"
     ]
    },
    {
     "ename": "KeyboardInterrupt",
     "evalue": "",
     "output_type": "error",
     "traceback": [
      "\u001b[1;31m---------------------------------------------------------------------------\u001b[0m",
      "\u001b[1;31mKeyboardInterrupt\u001b[0m                         Traceback (most recent call last)",
      "\u001b[1;32m~\\AppData\\Local\\Temp\\ipykernel_15328\\2354892665.py\u001b[0m in \u001b[0;36m<module>\u001b[1;34m\u001b[0m\n\u001b[0;32m      1\u001b[0m \u001b[0mBiLSTM\u001b[0m\u001b[1;33m.\u001b[0m\u001b[0mcompile\u001b[0m\u001b[1;33m(\u001b[0m\u001b[0moptimizer\u001b[0m\u001b[1;33m=\u001b[0m\u001b[1;34m\"adam\"\u001b[0m\u001b[1;33m,\u001b[0m \u001b[0mloss\u001b[0m\u001b[1;33m=\u001b[0m \u001b[0mkeras\u001b[0m\u001b[1;33m.\u001b[0m\u001b[0mlosses\u001b[0m\u001b[1;33m.\u001b[0m\u001b[0msparse_categorical_crossentropy\u001b[0m\u001b[1;33m,\u001b[0m \u001b[0mmetrics\u001b[0m\u001b[1;33m=\u001b[0m\u001b[1;34m\"accuracy\"\u001b[0m\u001b[1;33m)\u001b[0m\u001b[1;33m\u001b[0m\u001b[1;33m\u001b[0m\u001b[0m\n\u001b[1;32m----> 2\u001b[1;33m \u001b[0mhistory\u001b[0m \u001b[1;33m=\u001b[0m \u001b[0mBiLSTM\u001b[0m\u001b[1;33m.\u001b[0m\u001b[0mfit\u001b[0m\u001b[1;33m(\u001b[0m\u001b[0mx_train\u001b[0m\u001b[1;33m,\u001b[0m \u001b[0my_train\u001b[0m\u001b[1;33m,\u001b[0m \u001b[0mepochs\u001b[0m\u001b[1;33m=\u001b[0m\u001b[1;36m2000\u001b[0m\u001b[1;33m,\u001b[0m \u001b[0mvalidation_data\u001b[0m\u001b[1;33m=\u001b[0m \u001b[1;33m(\u001b[0m\u001b[0mx_val\u001b[0m\u001b[1;33m,\u001b[0m \u001b[0my_val\u001b[0m\u001b[1;33m)\u001b[0m\u001b[1;33m,\u001b[0m\u001b[0mcallbacks\u001b[0m\u001b[1;33m=\u001b[0m\u001b[1;33m[\u001b[0m\u001b[0mcheckpoint_cb\u001b[0m\u001b[1;33m,\u001b[0m \u001b[0mcustom_early_stopping_cb\u001b[0m\u001b[1;33m]\u001b[0m\u001b[1;33m,\u001b[0m \u001b[0mworkers\u001b[0m\u001b[1;33m=\u001b[0m\u001b[1;36m8\u001b[0m\u001b[1;33m,\u001b[0m \u001b[0muse_multiprocessing\u001b[0m\u001b[1;33m=\u001b[0m\u001b[1;32mTrue\u001b[0m\u001b[1;33m,\u001b[0m \u001b[0mbatch_size\u001b[0m\u001b[1;33m=\u001b[0m \u001b[1;36m750\u001b[0m\u001b[1;33m)\u001b[0m\u001b[1;33m\u001b[0m\u001b[1;33m\u001b[0m\u001b[0m\n\u001b[0m\u001b[0;32m      3\u001b[0m \u001b[0mBeep\u001b[0m\u001b[1;33m(\u001b[0m\u001b[1;36m2500\u001b[0m\u001b[1;33m,\u001b[0m \u001b[1;36m1000\u001b[0m\u001b[1;33m)\u001b[0m\u001b[1;33m\u001b[0m\u001b[1;33m\u001b[0m\u001b[0m\n",
      "\u001b[1;32m~\\anaconda3\\envs\\fwd\\lib\\site-packages\\keras\\utils\\traceback_utils.py\u001b[0m in \u001b[0;36merror_handler\u001b[1;34m(*args, **kwargs)\u001b[0m\n\u001b[0;32m     62\u001b[0m     \u001b[0mfiltered_tb\u001b[0m \u001b[1;33m=\u001b[0m \u001b[1;32mNone\u001b[0m\u001b[1;33m\u001b[0m\u001b[1;33m\u001b[0m\u001b[0m\n\u001b[0;32m     63\u001b[0m     \u001b[1;32mtry\u001b[0m\u001b[1;33m:\u001b[0m\u001b[1;33m\u001b[0m\u001b[1;33m\u001b[0m\u001b[0m\n\u001b[1;32m---> 64\u001b[1;33m       \u001b[1;32mreturn\u001b[0m \u001b[0mfn\u001b[0m\u001b[1;33m(\u001b[0m\u001b[1;33m*\u001b[0m\u001b[0margs\u001b[0m\u001b[1;33m,\u001b[0m \u001b[1;33m**\u001b[0m\u001b[0mkwargs\u001b[0m\u001b[1;33m)\u001b[0m\u001b[1;33m\u001b[0m\u001b[1;33m\u001b[0m\u001b[0m\n\u001b[0m\u001b[0;32m     65\u001b[0m     \u001b[1;32mexcept\u001b[0m \u001b[0mException\u001b[0m \u001b[1;32mas\u001b[0m \u001b[0me\u001b[0m\u001b[1;33m:\u001b[0m  \u001b[1;31m# pylint: disable=broad-except\u001b[0m\u001b[1;33m\u001b[0m\u001b[1;33m\u001b[0m\u001b[0m\n\u001b[0;32m     66\u001b[0m       \u001b[0mfiltered_tb\u001b[0m \u001b[1;33m=\u001b[0m \u001b[0m_process_traceback_frames\u001b[0m\u001b[1;33m(\u001b[0m\u001b[0me\u001b[0m\u001b[1;33m.\u001b[0m\u001b[0m__traceback__\u001b[0m\u001b[1;33m)\u001b[0m\u001b[1;33m\u001b[0m\u001b[1;33m\u001b[0m\u001b[0m\n",
      "\u001b[1;32m~\\anaconda3\\envs\\fwd\\lib\\site-packages\\keras\\engine\\training.py\u001b[0m in \u001b[0;36mfit\u001b[1;34m(self, x, y, batch_size, epochs, verbose, callbacks, validation_split, validation_data, shuffle, class_weight, sample_weight, initial_epoch, steps_per_epoch, validation_steps, validation_batch_size, validation_freq, max_queue_size, workers, use_multiprocessing)\u001b[0m\n\u001b[0;32m   1214\u001b[0m                 _r=1):\n\u001b[0;32m   1215\u001b[0m               \u001b[0mcallbacks\u001b[0m\u001b[1;33m.\u001b[0m\u001b[0mon_train_batch_begin\u001b[0m\u001b[1;33m(\u001b[0m\u001b[0mstep\u001b[0m\u001b[1;33m)\u001b[0m\u001b[1;33m\u001b[0m\u001b[1;33m\u001b[0m\u001b[0m\n\u001b[1;32m-> 1216\u001b[1;33m               \u001b[0mtmp_logs\u001b[0m \u001b[1;33m=\u001b[0m \u001b[0mself\u001b[0m\u001b[1;33m.\u001b[0m\u001b[0mtrain_function\u001b[0m\u001b[1;33m(\u001b[0m\u001b[0miterator\u001b[0m\u001b[1;33m)\u001b[0m\u001b[1;33m\u001b[0m\u001b[1;33m\u001b[0m\u001b[0m\n\u001b[0m\u001b[0;32m   1217\u001b[0m               \u001b[1;32mif\u001b[0m \u001b[0mdata_handler\u001b[0m\u001b[1;33m.\u001b[0m\u001b[0mshould_sync\u001b[0m\u001b[1;33m:\u001b[0m\u001b[1;33m\u001b[0m\u001b[1;33m\u001b[0m\u001b[0m\n\u001b[0;32m   1218\u001b[0m                 \u001b[0mcontext\u001b[0m\u001b[1;33m.\u001b[0m\u001b[0masync_wait\u001b[0m\u001b[1;33m(\u001b[0m\u001b[1;33m)\u001b[0m\u001b[1;33m\u001b[0m\u001b[1;33m\u001b[0m\u001b[0m\n",
      "\u001b[1;32m~\\anaconda3\\envs\\fwd\\lib\\site-packages\\tensorflow\\python\\util\\traceback_utils.py\u001b[0m in \u001b[0;36merror_handler\u001b[1;34m(*args, **kwargs)\u001b[0m\n\u001b[0;32m    148\u001b[0m     \u001b[0mfiltered_tb\u001b[0m \u001b[1;33m=\u001b[0m \u001b[1;32mNone\u001b[0m\u001b[1;33m\u001b[0m\u001b[1;33m\u001b[0m\u001b[0m\n\u001b[0;32m    149\u001b[0m     \u001b[1;32mtry\u001b[0m\u001b[1;33m:\u001b[0m\u001b[1;33m\u001b[0m\u001b[1;33m\u001b[0m\u001b[0m\n\u001b[1;32m--> 150\u001b[1;33m       \u001b[1;32mreturn\u001b[0m \u001b[0mfn\u001b[0m\u001b[1;33m(\u001b[0m\u001b[1;33m*\u001b[0m\u001b[0margs\u001b[0m\u001b[1;33m,\u001b[0m \u001b[1;33m**\u001b[0m\u001b[0mkwargs\u001b[0m\u001b[1;33m)\u001b[0m\u001b[1;33m\u001b[0m\u001b[1;33m\u001b[0m\u001b[0m\n\u001b[0m\u001b[0;32m    151\u001b[0m     \u001b[1;32mexcept\u001b[0m \u001b[0mException\u001b[0m \u001b[1;32mas\u001b[0m \u001b[0me\u001b[0m\u001b[1;33m:\u001b[0m\u001b[1;33m\u001b[0m\u001b[1;33m\u001b[0m\u001b[0m\n\u001b[0;32m    152\u001b[0m       \u001b[0mfiltered_tb\u001b[0m \u001b[1;33m=\u001b[0m \u001b[0m_process_traceback_frames\u001b[0m\u001b[1;33m(\u001b[0m\u001b[0me\u001b[0m\u001b[1;33m.\u001b[0m\u001b[0m__traceback__\u001b[0m\u001b[1;33m)\u001b[0m\u001b[1;33m\u001b[0m\u001b[1;33m\u001b[0m\u001b[0m\n",
      "\u001b[1;32m~\\anaconda3\\envs\\fwd\\lib\\site-packages\\tensorflow\\python\\eager\\def_function.py\u001b[0m in \u001b[0;36m__call__\u001b[1;34m(self, *args, **kwds)\u001b[0m\n\u001b[0;32m    908\u001b[0m \u001b[1;33m\u001b[0m\u001b[0m\n\u001b[0;32m    909\u001b[0m       \u001b[1;32mwith\u001b[0m \u001b[0mOptionalXlaContext\u001b[0m\u001b[1;33m(\u001b[0m\u001b[0mself\u001b[0m\u001b[1;33m.\u001b[0m\u001b[0m_jit_compile\u001b[0m\u001b[1;33m)\u001b[0m\u001b[1;33m:\u001b[0m\u001b[1;33m\u001b[0m\u001b[1;33m\u001b[0m\u001b[0m\n\u001b[1;32m--> 910\u001b[1;33m         \u001b[0mresult\u001b[0m \u001b[1;33m=\u001b[0m \u001b[0mself\u001b[0m\u001b[1;33m.\u001b[0m\u001b[0m_call\u001b[0m\u001b[1;33m(\u001b[0m\u001b[1;33m*\u001b[0m\u001b[0margs\u001b[0m\u001b[1;33m,\u001b[0m \u001b[1;33m**\u001b[0m\u001b[0mkwds\u001b[0m\u001b[1;33m)\u001b[0m\u001b[1;33m\u001b[0m\u001b[1;33m\u001b[0m\u001b[0m\n\u001b[0m\u001b[0;32m    911\u001b[0m \u001b[1;33m\u001b[0m\u001b[0m\n\u001b[0;32m    912\u001b[0m       \u001b[0mnew_tracing_count\u001b[0m \u001b[1;33m=\u001b[0m \u001b[0mself\u001b[0m\u001b[1;33m.\u001b[0m\u001b[0mexperimental_get_tracing_count\u001b[0m\u001b[1;33m(\u001b[0m\u001b[1;33m)\u001b[0m\u001b[1;33m\u001b[0m\u001b[1;33m\u001b[0m\u001b[0m\n",
      "\u001b[1;32m~\\anaconda3\\envs\\fwd\\lib\\site-packages\\tensorflow\\python\\eager\\def_function.py\u001b[0m in \u001b[0;36m_call\u001b[1;34m(self, *args, **kwds)\u001b[0m\n\u001b[0;32m    940\u001b[0m       \u001b[1;31m# In this case we have created variables on the first call, so we run the\u001b[0m\u001b[1;33m\u001b[0m\u001b[1;33m\u001b[0m\u001b[1;33m\u001b[0m\u001b[0m\n\u001b[0;32m    941\u001b[0m       \u001b[1;31m# defunned version which is guaranteed to never create variables.\u001b[0m\u001b[1;33m\u001b[0m\u001b[1;33m\u001b[0m\u001b[1;33m\u001b[0m\u001b[0m\n\u001b[1;32m--> 942\u001b[1;33m       \u001b[1;32mreturn\u001b[0m \u001b[0mself\u001b[0m\u001b[1;33m.\u001b[0m\u001b[0m_stateless_fn\u001b[0m\u001b[1;33m(\u001b[0m\u001b[1;33m*\u001b[0m\u001b[0margs\u001b[0m\u001b[1;33m,\u001b[0m \u001b[1;33m**\u001b[0m\u001b[0mkwds\u001b[0m\u001b[1;33m)\u001b[0m  \u001b[1;31m# pylint: disable=not-callable\u001b[0m\u001b[1;33m\u001b[0m\u001b[1;33m\u001b[0m\u001b[0m\n\u001b[0m\u001b[0;32m    943\u001b[0m     \u001b[1;32melif\u001b[0m \u001b[0mself\u001b[0m\u001b[1;33m.\u001b[0m\u001b[0m_stateful_fn\u001b[0m \u001b[1;32mis\u001b[0m \u001b[1;32mnot\u001b[0m \u001b[1;32mNone\u001b[0m\u001b[1;33m:\u001b[0m\u001b[1;33m\u001b[0m\u001b[1;33m\u001b[0m\u001b[0m\n\u001b[0;32m    944\u001b[0m       \u001b[1;31m# Release the lock early so that multiple threads can perform the call\u001b[0m\u001b[1;33m\u001b[0m\u001b[1;33m\u001b[0m\u001b[1;33m\u001b[0m\u001b[0m\n",
      "\u001b[1;32m~\\anaconda3\\envs\\fwd\\lib\\site-packages\\tensorflow\\python\\eager\\function.py\u001b[0m in \u001b[0;36m__call__\u001b[1;34m(self, *args, **kwargs)\u001b[0m\n\u001b[0;32m   3128\u001b[0m       (graph_function,\n\u001b[0;32m   3129\u001b[0m        filtered_flat_args) = self._maybe_define_function(args, kwargs)\n\u001b[1;32m-> 3130\u001b[1;33m     return graph_function._call_flat(\n\u001b[0m\u001b[0;32m   3131\u001b[0m         filtered_flat_args, captured_inputs=graph_function.captured_inputs)  # pylint: disable=protected-access\n\u001b[0;32m   3132\u001b[0m \u001b[1;33m\u001b[0m\u001b[0m\n",
      "\u001b[1;32m~\\anaconda3\\envs\\fwd\\lib\\site-packages\\tensorflow\\python\\eager\\function.py\u001b[0m in \u001b[0;36m_call_flat\u001b[1;34m(self, args, captured_inputs, cancellation_manager)\u001b[0m\n\u001b[0;32m   1957\u001b[0m         and executing_eagerly):\n\u001b[0;32m   1958\u001b[0m       \u001b[1;31m# No tape is watching; skip to running the function.\u001b[0m\u001b[1;33m\u001b[0m\u001b[1;33m\u001b[0m\u001b[1;33m\u001b[0m\u001b[0m\n\u001b[1;32m-> 1959\u001b[1;33m       return self._build_call_outputs(self._inference_function.call(\n\u001b[0m\u001b[0;32m   1960\u001b[0m           ctx, args, cancellation_manager=cancellation_manager))\n\u001b[0;32m   1961\u001b[0m     forward_backward = self._select_forward_and_backward_functions(\n",
      "\u001b[1;32m~\\anaconda3\\envs\\fwd\\lib\\site-packages\\tensorflow\\python\\eager\\function.py\u001b[0m in \u001b[0;36mcall\u001b[1;34m(self, ctx, args, cancellation_manager)\u001b[0m\n\u001b[0;32m    596\u001b[0m       \u001b[1;32mwith\u001b[0m \u001b[0m_InterpolateFunctionError\u001b[0m\u001b[1;33m(\u001b[0m\u001b[0mself\u001b[0m\u001b[1;33m)\u001b[0m\u001b[1;33m:\u001b[0m\u001b[1;33m\u001b[0m\u001b[1;33m\u001b[0m\u001b[0m\n\u001b[0;32m    597\u001b[0m         \u001b[1;32mif\u001b[0m \u001b[0mcancellation_manager\u001b[0m \u001b[1;32mis\u001b[0m \u001b[1;32mNone\u001b[0m\u001b[1;33m:\u001b[0m\u001b[1;33m\u001b[0m\u001b[1;33m\u001b[0m\u001b[0m\n\u001b[1;32m--> 598\u001b[1;33m           outputs = execute.execute(\n\u001b[0m\u001b[0;32m    599\u001b[0m               \u001b[0mstr\u001b[0m\u001b[1;33m(\u001b[0m\u001b[0mself\u001b[0m\u001b[1;33m.\u001b[0m\u001b[0msignature\u001b[0m\u001b[1;33m.\u001b[0m\u001b[0mname\u001b[0m\u001b[1;33m)\u001b[0m\u001b[1;33m,\u001b[0m\u001b[1;33m\u001b[0m\u001b[1;33m\u001b[0m\u001b[0m\n\u001b[0;32m    600\u001b[0m               \u001b[0mnum_outputs\u001b[0m\u001b[1;33m=\u001b[0m\u001b[0mself\u001b[0m\u001b[1;33m.\u001b[0m\u001b[0m_num_outputs\u001b[0m\u001b[1;33m,\u001b[0m\u001b[1;33m\u001b[0m\u001b[1;33m\u001b[0m\u001b[0m\n",
      "\u001b[1;32m~\\anaconda3\\envs\\fwd\\lib\\site-packages\\tensorflow\\python\\eager\\execute.py\u001b[0m in \u001b[0;36mquick_execute\u001b[1;34m(op_name, num_outputs, inputs, attrs, ctx, name)\u001b[0m\n\u001b[0;32m     56\u001b[0m   \u001b[1;32mtry\u001b[0m\u001b[1;33m:\u001b[0m\u001b[1;33m\u001b[0m\u001b[1;33m\u001b[0m\u001b[0m\n\u001b[0;32m     57\u001b[0m     \u001b[0mctx\u001b[0m\u001b[1;33m.\u001b[0m\u001b[0mensure_initialized\u001b[0m\u001b[1;33m(\u001b[0m\u001b[1;33m)\u001b[0m\u001b[1;33m\u001b[0m\u001b[1;33m\u001b[0m\u001b[0m\n\u001b[1;32m---> 58\u001b[1;33m     tensors = pywrap_tfe.TFE_Py_Execute(ctx._handle, device_name, op_name,\n\u001b[0m\u001b[0;32m     59\u001b[0m                                         inputs, attrs, num_outputs)\n\u001b[0;32m     60\u001b[0m   \u001b[1;32mexcept\u001b[0m \u001b[0mcore\u001b[0m\u001b[1;33m.\u001b[0m\u001b[0m_NotOkStatusException\u001b[0m \u001b[1;32mas\u001b[0m \u001b[0me\u001b[0m\u001b[1;33m:\u001b[0m\u001b[1;33m\u001b[0m\u001b[1;33m\u001b[0m\u001b[0m\n",
      "\u001b[1;31mKeyboardInterrupt\u001b[0m: "
     ]
    }
   ],
   "source": [
    "BiLSTM.compile(optimizer=\"adam\", loss= keras.losses.sparse_categorical_crossentropy, metrics=\"accuracy\")\n",
    "history = BiLSTM.fit(x_train, y_train, epochs=2000, validation_data= (x_val, y_val),callbacks=[checkpoint_cb, custom_early_stopping_cb], workers=8, use_multiprocessing=True, batch_size= 750)\n",
    "Beep(2500, 1000)"
   ]
  },
  {
   "cell_type": "code",
   "execution_count": 52,
   "id": "5b55567d",
   "metadata": {},
   "outputs": [
    {
     "data": {
      "image/png": "[encoded data removed]",
      "text/plain": [
       "<Figure size 720x432 with 1 Axes>"
      ]
     },
     "metadata": {
      "needs_background": "light"
     },
     "output_type": "display_data"
    }
   ],
   "source": [
    "model_history = pd.DataFrame(history.history)\n",
    "model_history.plot(figsize=(10,6))\n",
    "plt.grid(True)\n",
    "plt.gca().set_ylim(0, 1)\n",
    "plt.show();"
   ]
  },
  {
   "cell_type": "code",
   "execution_count": 53,
   "id": "e735313d",
   "metadata": {},
   "outputs": [
    {
     "name": "stdout",
     "output_type": "stream",
     "text": [
      "157/157 [==============================] - 67s 425ms/step - loss: 0.1513 - accuracy: 0.9600\n"
     ]
    },
    {
     "data": {
      "text/plain": [
       "[0.15128403902053833, 0.9599999785423279]"
      ]
     },
     "execution_count": 53,
     "metadata": {},
     "output_type": "execute_result"
    }
   ],
   "source": [
    "BiLSTM.evaluate(x_val, y_val)"
   ]
  },
  {
   "cell_type": "code",
   "execution_count": 54,
   "id": "51752b14",
   "metadata": {},
   "outputs": [
    {
     "name": "stdout",
     "output_type": "stream",
     "text": [
      "1124/1124 [==============================] - 488s 435ms/step - loss: 0.0907 - accuracy: 0.9725\n"
     ]
    },
    {
     "data": {
      "text/plain": [
       "[0.09067104011774063, 0.9724617600440979]"
      ]
     },
     "execution_count": 54,
     "metadata": {},
     "output_type": "execute_result"
    }
   ],
   "source": [
    "BiLSTM.evaluate(x_train, y_train)"
   ]
  },
  {
   "cell_type": "code",
   "execution_count": 55,
   "id": "2c8572c2",
   "metadata": {},
   "outputs": [
    {
     "data": {
      "text/plain": [
       "0.9537690877914429"
      ]
     },
     "execution_count": 55,
     "metadata": {},
     "output_type": "execute_result"
    }
   ],
   "source": [
    "0.9599999785423279 - (0.9724617600440979 - 0.9599999785423279) / 2"
   ]
  },
  {
   "cell_type": "code",
   "execution_count": 56,
   "id": "8ea56b3e",
   "metadata": {},
   "outputs": [],
   "source": [
    "BiLSTM.save(\"sentiment_analysis_sanda_BI-LSTM_Model.h5\")"
   ]
  },
  {
   "cell_type": "code",
   "execution_count": 57,
   "id": "2df57752",
   "metadata": {},
   "outputs": [
    {
     "name": "stdout",
     "output_type": "stream",
     "text": [
      "143/143 [==============================] - 49s 341ms/step - loss: 0.1365 - accuracy: 0.9598\n"
     ]
    },
    {
     "data": {
      "text/plain": [
       "[0.13654136657714844, 0.959780216217041]"
      ]
     },
     "execution_count": 57,
     "metadata": {},
     "output_type": "execute_result"
    }
   ],
   "source": [
    "BiLSTM.evaluate(x_test_cleaned_vec_pad, y_test)"
   ]
  },
  {
   "cell_type": "code",
   "execution_count": null,
   "id": "5d1cec69",
   "metadata": {},
   "outputs": [],
   "source": []
  },
  {
   "cell_type": "markdown",
   "id": "4fc3f1a4",
   "metadata": {},
   "source": [
    "# BI-GRU"
   ]
  },
  {
   "cell_type": "code",
   "execution_count": 58,
   "id": "70140d73",
   "metadata": {},
   "outputs": [],
   "source": [
    "BiGRU = keras.models.Sequential([\n",
    "    keras.layers.Dropout(0.2, input_shape= [None, 100]),\n",
    "    keras.layers.Bidirectional(keras.layers.GRU(100)),\n",
    "    keras.layers.Dropout(0.2),\n",
    "    keras.layers.Dense(7, activation= \"softmax\")\n",
    "])"
   ]
  },
  {
   "cell_type": "code",
   "execution_count": 60,
   "id": "d87038bd",
   "metadata": {
    "scrolled": true
   },
   "outputs": [
    {
     "name": "stdout",
     "output_type": "stream",
     "text": [
      "Epoch 1/2000\n",
      "48/48 [==============================] - 665s 13s/step - loss: 0.1056 - accuracy: 0.9674 - val_loss: 0.1248 - val_accuracy: 0.9626\n",
      "Epoch 2/2000\n",
      "48/48 [==============================] - 627s 13s/step - loss: 0.0945 - accuracy: 0.9706 - val_loss: 0.1255 - val_accuracy: 0.9622\n",
      "Epoch 3/2000\n",
      "48/48 [==============================] - 672s 14s/step - loss: 0.0880 - accuracy: 0.9727 - val_loss: 0.1279 - val_accuracy: 0.9624\n",
      "Epoch 4/2000\n",
      "48/48 [==============================] - 703s 15s/step - loss: 0.0804 - accuracy: 0.9751 - val_loss: 0.1337 - val_accuracy: 0.9602\n",
      "Epoch 5/2000\n",
      "48/48 [==============================] - 721s 15s/step - loss: 0.0772 - accuracy: 0.9761 - val_loss: 0.1297 - val_accuracy: 0.9628\n",
      "Epoch 6/2000\n",
      "48/48 [==============================] - 723s 15s/step - loss: 0.0719 - accuracy: 0.9773 - val_loss: 0.1254 - val_accuracy: 0.9652\n",
      "Epoch 7/2000\n",
      "48/48 [==============================] - 725s 15s/step - loss: 0.0663 - accuracy: 0.9792 - val_loss: 0.1221 - val_accuracy: 0.9656\n",
      "Epoch 8/2000\n",
      "48/48 [==============================] - 736s 15s/step - loss: 0.0612 - accuracy: 0.9807 - val_loss: 0.1243 - val_accuracy: 0.9670\n",
      "Epoch 9/2000\n",
      "48/48 [==============================] - 727s 15s/step - loss: 0.0566 - accuracy: 0.9820 - val_loss: 0.1289 - val_accuracy: 0.9646\n",
      "Epoch 10/2000\n",
      "48/48 [==============================] - 739s 15s/step - loss: 0.0544 - accuracy: 0.9828 - val_loss: 0.1236 - val_accuracy: 0.9654\n",
      "Epoch 11/2000\n",
      "48/48 [==============================] - 771s 16s/step - loss: 0.0495 - accuracy: 0.9844 - val_loss: 0.1245 - val_accuracy: 0.9656\n",
      "Epoch 00011: custom early stopping\n"
     ]
    }
   ],
   "source": [
    "BiGRU.compile(optimizer=\"adam\", loss= keras.losses.sparse_categorical_crossentropy, metrics=\"accuracy\")\n",
    "history = BiGRU.fit(x_train, y_train, epochs=2000, validation_data= (x_val, y_val),callbacks=[checkpoint_cb, custom_early_stopping_cb], workers=8, use_multiprocessing=True, batch_size= 750)\n",
    "Beep(2500, 1000)"
   ]
  },
  {
   "cell_type": "code",
   "execution_count": 61,
   "id": "fc91af09",
   "metadata": {},
   "outputs": [
    {
     "data": {
      "image/png": "[encoded data removed]",
      "text/plain": [
       "<Figure size 720x432 with 1 Axes>"
      ]
     },
     "metadata": {
      "needs_background": "light"
     },
     "output_type": "display_data"
    }
   ],
   "source": [
    "model_history = pd.DataFrame(history.history)\n",
    "model_history.plot(figsize=(10,6))\n",
    "plt.grid(True)\n",
    "plt.gca().set_ylim(0, 1)\n",
    "plt.show();"
   ]
  },
  {
   "cell_type": "code",
   "execution_count": 62,
   "id": "9a29ee19",
   "metadata": {},
   "outputs": [
    {
     "name": "stdout",
     "output_type": "stream",
     "text": [
      "157/157 [==============================] - 46s 296ms/step - loss: 0.1243 - accuracy: 0.9670\n"
     ]
    },
    {
     "data": {
      "text/plain": [
       "[0.12427802383899689, 0.9670000076293945]"
      ]
     },
     "execution_count": 62,
     "metadata": {},
     "output_type": "execute_result"
    }
   ],
   "source": [
    "BiGRU.evaluate(x_val, y_val)"
   ]
  },
  {
   "cell_type": "code",
   "execution_count": 63,
   "id": "a6e23a5a",
   "metadata": {},
   "outputs": [
    {
     "name": "stdout",
     "output_type": "stream",
     "text": [
      "1124/1124 [==============================] - 379s 337ms/step - loss: 0.0397 - accuracy: 0.9884\n"
     ]
    },
    {
     "data": {
      "text/plain": [
       "[0.039702530950307846, 0.9884005784988403]"
      ]
     },
     "execution_count": 63,
     "metadata": {},
     "output_type": "execute_result"
    }
   ],
   "source": [
    "BiGRU.evaluate(x_train, y_train)"
   ]
  },
  {
   "cell_type": "code",
   "execution_count": 64,
   "id": "4f6bafd3",
   "metadata": {},
   "outputs": [
    {
     "data": {
      "text/plain": [
       "0.9562997221946716"
      ]
     },
     "execution_count": 64,
     "metadata": {},
     "output_type": "execute_result"
    }
   ],
   "source": [
    "0.9670000076293945 - (0.9884005784988403 - 0.9670000076293945) / 2"
   ]
  },
  {
   "cell_type": "code",
   "execution_count": 65,
   "id": "7772d60a",
   "metadata": {},
   "outputs": [],
   "source": [
    "BiLSTM.save(\"sentiment_analysis_sanda_BI-GRU_Model.h5\")"
   ]
  },
  {
   "cell_type": "code",
   "execution_count": 66,
   "id": "8c3556fa",
   "metadata": {},
   "outputs": [
    {
     "name": "stdout",
     "output_type": "stream",
     "text": [
      "143/143 [==============================] - 43s 304ms/step - loss: 0.1365 - accuracy: 0.9598\n"
     ]
    },
    {
     "data": {
      "text/plain": [
       "[0.13654136657714844, 0.959780216217041]"
      ]
     },
     "execution_count": 66,
     "metadata": {},
     "output_type": "execute_result"
    }
   ],
   "source": [
    "BiLSTM.evaluate(x_test_cleaned_vec_pad, y_test)"
   ]
  },
  {
   "cell_type": "code",
   "execution_count": null,
   "id": "ab139063",
   "metadata": {},
   "outputs": [],
   "source": []
  }
 ],
 "metadata": {
  "kernelspec": {
   "display_name": "Python 3 (ipykernel)",
   "language": "python",
   "name": "python3"
  },
  "language_info": {
   "codemirror_mode": {
    "name": "ipython",
    "version": 3
   },
   "file_extension": ".py",
   "mimetype": "text/x-python",
   "name": "python",
   "nbconvert_exporter": "python",
   "pygments_lexer": "ipython3",
   "version": "3.8.12"
  }
 },
 "nbformat": 4,
 "nbformat_minor": 5
}
